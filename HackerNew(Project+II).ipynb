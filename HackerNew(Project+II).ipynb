{
 "cells": [
  {
   "cell_type": "markdown",
   "metadata": {
    "collapsed": true
   },
   "source": [
    "# Hacker News Fact:\n",
    "## Does Ask HN and Show HN acutually recive more comment ?\n",
    "\n",
    "We'll compare thoes two types of posts with average post \n",
    "* Does it recive more comment ?\n",
    "* Does post created at a certain time recive more comments ?"
   ]
  },
  {
   "cell_type": "code",
   "execution_count": 1,
   "metadata": {
    "collapsed": false
   },
   "outputs": [
    {
     "name": "stdout",
     "output_type": "stream",
     "text": [
      "[['id', 'title', 'url', 'num_points', 'num_comments', 'author', 'created_at'], ['12224879', 'Interactive Dynamic Video', 'http://www.interactivedynamicvideo.com/', '386', '52', 'ne0phyte', '8/4/2016 11:52'], ['10975351', 'How to Use Open Source and Shut the Fuck Up at the Same Time', 'http://hueniverse.com/2016/01/26/how-to-use-open-source-and-shut-the-fuck-up-at-the-same-time/', '39', '10', 'josep2', '1/26/2016 19:30'], ['11964716', \"Florida DJs May Face Felony for April Fools' Water Joke\", 'http://www.thewire.com/entertainment/2013/04/florida-djs-april-fools-water-joke/63798/', '2', '1', 'vezycash', '6/23/2016 22:20'], ['11919867', 'Technology ventures: From Idea to Enterprise', 'https://www.amazon.com/Technology-Ventures-Enterprise-Thomas-Byers/dp/0073523429', '3', '1', 'hswarna', '6/17/2016 0:01']]\n"
     ]
    }
   ],
   "source": [
    "file_name = \"hacker_news.csv\"\n",
    "opened_file = open(file_name)\n",
    "from csv import reader\n",
    "read_file = reader(opened_file)\n",
    "hn = list(read_file)\n",
    "\n",
    "print(hn[:5])"
   ]
  },
  {
   "cell_type": "code",
   "execution_count": 2,
   "metadata": {
    "collapsed": false
   },
   "outputs": [
    {
     "name": "stdout",
     "output_type": "stream",
     "text": [
      "['id', 'title', 'url', 'num_points', 'num_comments', 'author', 'created_at']\n",
      "\n",
      "\n",
      "[['12224879', 'Interactive Dynamic Video', 'http://www.interactivedynamicvideo.com/', '386', '52', 'ne0phyte', '8/4/2016 11:52'], ['10975351', 'How to Use Open Source and Shut the Fuck Up at the Same Time', 'http://hueniverse.com/2016/01/26/how-to-use-open-source-and-shut-the-fuck-up-at-the-same-time/', '39', '10', 'josep2', '1/26/2016 19:30'], ['11964716', \"Florida DJs May Face Felony for April Fools' Water Joke\", 'http://www.thewire.com/entertainment/2013/04/florida-djs-april-fools-water-joke/63798/', '2', '1', 'vezycash', '6/23/2016 22:20'], ['11919867', 'Technology ventures: From Idea to Enterprise', 'https://www.amazon.com/Technology-Ventures-Enterprise-Thomas-Byers/dp/0073523429', '3', '1', 'hswarna', '6/17/2016 0:01'], ['10301696', 'Note by Note: The Making of Steinway L1037 (2007)', 'http://www.nytimes.com/2007/11/07/movies/07stein.html?_r=0', '8', '2', 'walterbell', '9/30/2015 4:12']]\n"
     ]
    }
   ],
   "source": [
    "header = hn[0]\n",
    "del hn[0]      ##Very importannt <---- Do not run this cell more than 1 time\n",
    "print(header)\n",
    "print('\\n')\n",
    "print(hn[:5])"
   ]
  },
  {
   "cell_type": "markdown",
   "metadata": {},
   "source": [
    "\n",
    "|index number | column name | description |\n",
    "|:----:|:----:|:----:|\n",
    "| 0 | id | The unique identifier from Hacker News for the post|\n",
    "| 1 | title | The title of the post|\n",
    "| 2 | url | The URL that the posts links to, if it the post has a URL|\n",
    "| 3 | num_points | The number of points the post acquired, calculated as the total number of upvotes minus the total number of downvotes|\n",
    "| 4 | num_comments | The number of comments that were made on the post|\n",
    "| 5 | author | The username of the person who submitted the post|\n",
    "| 6 | created_at | The date and time at which the post was submitted|"
   ]
  },
  {
   "cell_type": "code",
   "execution_count": 3,
   "metadata": {
    "collapsed": false
   },
   "outputs": [
    {
     "name": "stdout",
     "output_type": "stream",
     "text": [
      "Ask Hn has  1744 posts.\n",
      "Show Hn has  1162 posts.\n",
      "Other posts has  17194 posts.\n",
      "Total post of Hn is  20100\n",
      "Total of Ask + Show + Other is  1744  +  1162  +  17194  =  20100\n"
     ]
    }
   ],
   "source": [
    "ask_posts = []\n",
    "show_posts = []\n",
    "other_posts = []\n",
    "\n",
    "for row in hn:\n",
    "    title = row[1]\n",
    "    if title.lower().startswith('ask hn'):\n",
    "        ask_posts.append(row)\n",
    "    elif title.lower().startswith('show hn'):\n",
    "        show_posts.append(row)\n",
    "    else:\n",
    "        other_posts.append(row)\n",
    "        \n",
    "print(\"Ask Hn has \",len(ask_posts),\"posts.\")\n",
    "print(\"Show Hn has \",len(show_posts),\"posts.\")\n",
    "print(\"Other posts has \",len(other_posts),\"posts.\")\n",
    "print(\"Total post of Hn is \",len(hn))\n",
    "total_posts = int(len(ask_posts))+int(len(show_posts))+int(len(other_posts))\n",
    "print(\"Total of Ask + Show + Other is \",len(ask_posts),\" + \",len(show_posts),\" + \",len(other_posts),\" = \",total_posts  )\n"
   ]
  },
  {
   "cell_type": "code",
   "execution_count": 4,
   "metadata": {
    "collapsed": false
   },
   "outputs": [
    {
     "name": "stdout",
     "output_type": "stream",
     "text": [
      "[['12296411', 'Ask HN: How to improve my personal website?', '', '2', '6', 'ahmedbaracat', '8/16/2016 9:55'], ['10610020', 'Ask HN: Am I the only one outraged by Twitter shutting down share counts?', '', '28', '29', 'tkfx', '11/22/2015 13:43'], ['11610310', 'Ask HN: Aby recent changes to CSS that broke mobile?', '', '1', '1', 'polskibus', '5/2/2016 10:14'], ['12210105', 'Ask HN: Looking for Employee #3 How do I do it?', '', '1', '3', 'sph130', '8/2/2016 14:20'], ['10394168', 'Ask HN: Someone offered to buy my browser extension from me. What now?', '', '28', '17', 'roykolak', '10/15/2015 16:38']]\n",
      "\n",
      "\n",
      "[['10627194', 'Show HN: Wio Link  ESP8266 Based Web of Things Hardware Development Platform', 'https://iot.seeed.cc', '26', '22', 'kfihihc', '11/25/2015 14:03'], ['10646440', 'Show HN: Something pointless I made', 'http://dn.ht/picklecat/', '747', '102', 'dhotson', '11/29/2015 22:46'], ['11590768', 'Show HN: Shanhu.io, a programming playground powered by e8vm', 'https://shanhu.io', '1', '1', 'h8liu', '4/28/2016 18:05'], ['12178806', 'Show HN: Webscope  Easy way for web developers to communicate with Clients', 'http://webscopeapp.com', '3', '3', 'fastbrick', '7/28/2016 7:11'], ['10872799', 'Show HN: GeoScreenshot  Easily test Geo-IP based web pages', 'https://www.geoscreenshot.com/', '1', '9', 'kpsychwave', '1/9/2016 20:45']]\n",
      "\n",
      "\n",
      "[['12224879', 'Interactive Dynamic Video', 'http://www.interactivedynamicvideo.com/', '386', '52', 'ne0phyte', '8/4/2016 11:52'], ['10975351', 'How to Use Open Source and Shut the Fuck Up at the Same Time', 'http://hueniverse.com/2016/01/26/how-to-use-open-source-and-shut-the-fuck-up-at-the-same-time/', '39', '10', 'josep2', '1/26/2016 19:30'], ['11964716', \"Florida DJs May Face Felony for April Fools' Water Joke\", 'http://www.thewire.com/entertainment/2013/04/florida-djs-april-fools-water-joke/63798/', '2', '1', 'vezycash', '6/23/2016 22:20'], ['11919867', 'Technology ventures: From Idea to Enterprise', 'https://www.amazon.com/Technology-Ventures-Enterprise-Thomas-Byers/dp/0073523429', '3', '1', 'hswarna', '6/17/2016 0:01'], ['10301696', 'Note by Note: The Making of Steinway L1037 (2007)', 'http://www.nytimes.com/2007/11/07/movies/07stein.html?_r=0', '8', '2', 'walterbell', '9/30/2015 4:12']]\n",
      "\n",
      "\n"
     ]
    }
   ],
   "source": [
    "print(ask_posts[:5])\n",
    "print(\"\\n\")\n",
    "print(show_posts[:5])\n",
    "print(\"\\n\")\n",
    "print(other_posts[:5])\n",
    "print(\"\\n\")"
   ]
  },
  {
   "cell_type": "code",
   "execution_count": 5,
   "metadata": {
    "collapsed": false
   },
   "outputs": [
    {
     "name": "stdout",
     "output_type": "stream",
     "text": [
      "Average of Ask HN comments is : 14.038417431192661\n",
      "Average of Show HN comments is : 10.31669535283993\n",
      "Average of HN comments is : 24.80228855721393\n",
      "Total comments is:  498526\n"
     ]
    }
   ],
   "source": [
    "total_ask_comments = 0\n",
    "total_show_comments = 0\n",
    "total_comments = 0\n",
    "\n",
    "for row in ask_posts:\n",
    "    num_comments = int(row[4])\n",
    "    total_ask_comments += num_comments\n",
    "avg_ask_comments = total_ask_comments/int(len(ask_posts))\n",
    "\n",
    "print(\"Average of Ask HN comments is :\",avg_ask_comments)\n",
    "\n",
    "for row in show_posts:\n",
    "    num_comments = int(row[4])\n",
    "    total_show_comments += num_comments\n",
    "avg_show_comments = total_show_comments/int(len(show_posts))\n",
    "\n",
    "print(\"Average of Show HN comments is :\",avg_show_comments)\n",
    "\n",
    "for row in hn:\n",
    "    num_comments = int(row[4])\n",
    "    total_comments += num_comments\n",
    "avg_comments = total_comments/int(len(hn))\n",
    "\n",
    "print(\"Average of HN comments is :\",avg_comments)\n",
    "print(\"Total comments is: \",total_comments)"
   ]
  },
  {
   "cell_type": "markdown",
   "metadata": {},
   "source": [
    "As we've seen, neither Ask HN posts nor Show HN posts has more comment than average comments.\n",
    "\n",
    "Ask HN has more average comments than Show HN."
   ]
  },
  {
   "cell_type": "code",
   "execution_count": 6,
   "metadata": {
    "collapsed": false
   },
   "outputs": [
    {
     "name": "stdout",
     "output_type": "stream",
     "text": [
      "\n",
      "\n",
      "{'12': 73, '21': 109, '11': 58, '14': 107, '17': 100, '02': 58, '10': 59, '13': 85, '05': 46, '20': 80, '03': 54, '06': 44, '09': 45, '01': 60, '04': 47, '22': 71, '16': 108, '07': 34, '19': 110, '08': 48, '23': 68, '15': 116, '00': 55, '18': 109}\n",
      "\n",
      "\n",
      "{'12': 687, '21': 1745, '11': 641, '14': 1416, '17': 1146, '02': 1381, '10': 793, '13': 1253, '05': 464, '20': 1722, '03': 421, '06': 397, '09': 251, '01': 683, '04': 337, '22': 479, '16': 1814, '07': 267, '19': 1188, '08': 492, '23': 543, '15': 4477, '00': 447, '18': 1439}\n"
     ]
    }
   ],
   "source": [
    "import datetime as dt\n",
    "result_list = []\n",
    "for row in ask_posts:\n",
    "    created_at = row[6]\n",
    "    num_comments = int(row[4])\n",
    "    append_list = [created_at,num_comments]\n",
    "    result_list.append(append_list)\n",
    "# print(result_list[:5])\n",
    "\n",
    "counts_by_hour = {}\n",
    "comments_by_hour = {}\n",
    "date_format = \"%m/%d/%Y %H:%M\"\n",
    "for data in result_list:\n",
    "    time = data[0]\n",
    "    date = dt.datetime.strptime(time,date_format)\n",
    "    #data[0] = date\n",
    "    hours = date.strftime('%H')\n",
    "    if hours in counts_by_hour:\n",
    "        counts_by_hour[hours] += 1\n",
    "        comments_by_hour[hours] += data[1]\n",
    "    else:\n",
    "        counts_by_hour[hours] = 1\n",
    "        comments_by_hour[hours] = data[1]\n",
    "print('\\n')\n",
    "print(counts_by_hour)\n",
    "print('\\n')\n",
    "print(comments_by_hour)"
   ]
  },
  {
   "cell_type": "code",
   "execution_count": 7,
   "metadata": {
    "collapsed": false
   },
   "outputs": [
    {
     "name": "stdout",
     "output_type": "stream",
     "text": [
      "['00', 8.127272727272727]\n",
      "['01', 11.383333333333333]\n",
      "['02', 23.810344827586206]\n",
      "['03', 7.796296296296297]\n",
      "['04', 7.170212765957447]\n",
      "['05', 10.08695652173913]\n",
      "['06', 9.022727272727273]\n",
      "['07', 7.852941176470588]\n",
      "['08', 10.25]\n",
      "['09', 5.5777777777777775]\n",
      "['10', 13.440677966101696]\n",
      "['11', 11.051724137931034]\n",
      "['12', 9.41095890410959]\n",
      "['13', 14.741176470588234]\n",
      "['14', 13.233644859813085]\n",
      "['15', 38.5948275862069]\n",
      "['16', 16.796296296296298]\n",
      "['17', 11.46]\n",
      "['18', 13.20183486238532]\n",
      "['19', 10.8]\n",
      "['20', 21.525]\n",
      "['21', 16.009174311926607]\n",
      "['22', 6.746478873239437]\n",
      "['23', 7.985294117647059]\n"
     ]
    }
   ],
   "source": [
    "avg_by_hour = []\n",
    "for hour in comments_by_hour:\n",
    "    avg_by_hour.append([hour,(comments_by_hour[hour]/counts_by_hour[hour])])\n",
    "for data in sorted(avg_by_hour):\n",
    "    print(data)"
   ]
  },
  {
   "cell_type": "code",
   "execution_count": 8,
   "metadata": {
    "collapsed": false,
    "scrolled": true
   },
   "outputs": [
    {
     "name": "stdout",
     "output_type": "stream",
     "text": [
      "Top 5 Hours for Ask Posts Comments\n",
      "15:00: 38.59 average comments per post\n",
      "02:00: 23.81 average comments per post\n",
      "20:00: 21.52 average comments per post\n",
      "16:00: 16.80 average comments per post\n",
      "21:00: 16.01 average comments per post\n"
     ]
    }
   ],
   "source": [
    "swap_avg_by_hour = []\n",
    "for data in avg_by_hour:\n",
    "    hours = data[0]\n",
    "    avg = data[1]\n",
    "    swap_avg_by_hour.append([avg,hours])\n",
    "sorted_swap = []\n",
    "for data in sorted(swap_avg_by_hour,reverse = True):\n",
    "    sorted_swap.append(data)\n",
    "print(\"Top 5 Hours for Ask Posts Comments\")\n",
    "i = 0\n",
    "str_format = \"{hr}: {avg:.2f} average comments per post\"\n",
    "for data in sorted_swap:\n",
    "    hour = str(data[1])\n",
    "    time = dt.datetime.strptime(hour,\"%H\")\n",
    "    time_dt = time.strftime(\"%H:%M\")\n",
    "    if i < 5:\n",
    "        print(str_format.format(hr = time_dt, avg = data[0]))\n",
    "    i += 1\n",
    "\n"
   ]
  },
  {
   "cell_type": "code",
   "execution_count": 9,
   "metadata": {
    "collapsed": false
   },
   "outputs": [
    {
     "name": "stdout",
     "output_type": "stream",
     "text": [
      "Top 5 Hours for Ask Posts Comments in local time is:\n",
      "18:00: 38.59 average comments per post\n",
      "05:00: 23.81 average comments per post\n",
      "23:00: 21.52 average comments per post\n",
      "19:00: 16.80 average comments per post\n",
      "00:00: 16.01 average comments per post\n"
     ]
    }
   ],
   "source": [
    "#Eastern Time in the US is GMT-4\n",
    "#Local time here is GMT+7\n",
    "\n",
    "data_gmt = -4\n",
    "local_gmt = +7\n",
    "i = 0\n",
    "print(\"Top 5 Hours for Ask Posts Comments in local time is:\")\n",
    "for data in sorted_swap:\n",
    "    hour = str(data[1])\n",
    "    time = dt.datetime.strptime(hour,\"%H\")\n",
    "    time_dt = time.strftime(\"%H:%M\")\n",
    "    time_dt_gmt = time + dt.timedelta(hours = data_gmt)\n",
    "    time_in_local = time_dt_gmt + dt.timedelta(hours = local_gmt)\n",
    "    print_time = time_in_local.strftime(\"%H:%M\")\n",
    "    if i < 5:\n",
    "        print(str_format.format(hr = print_time, avg = data[0]))\n",
    "    i += 1\n",
    "\n",
    "    "
   ]
  },
  {
   "cell_type": "markdown",
   "metadata": {},
   "source": [
    "So to get the most comments, period of time of the post should be around 15:00-16:00 (in eastern time) or 18:00-19:00 in local time(GMT+7)"
   ]
  }
 ],
 "metadata": {
  "kernelspec": {
   "display_name": "Python 3",
   "language": "python",
   "name": "python3"
  },
  "language_info": {
   "codemirror_mode": {
    "name": "ipython",
    "version": 3
   },
   "file_extension": ".py",
   "mimetype": "text/x-python",
   "name": "python",
   "nbconvert_exporter": "python",
   "pygments_lexer": "ipython3",
   "version": "3.4.3"
  }
 },
 "nbformat": 4,
 "nbformat_minor": 2
}
